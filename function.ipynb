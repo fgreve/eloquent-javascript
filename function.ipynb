{
 "cells": [
  {
   "cell_type": "markdown",
   "metadata": {},
   "source": [
    "#### Chapter 3\n",
    "\n",
    "> _People think that computer science is the art of geniuses but the_\n",
    "> _actual reality is the opposite, just many people doing things that_\n",
    "> _build on each other, like a wall of mini stones._\n",
    "<div style=\"text-align: right\"> — Donald Knuth </div>"
   ]
  },
  {
   "cell_type": "markdown",
   "metadata": {},
   "source": [
    "# Functions"
   ]
  },
  {
   "cell_type": "markdown",
   "metadata": {},
   "source": [
    "Functions are the bread and butter of JavaScript programming. The concept\n",
    "of wrapping a piece of program in a value has many uses. It gives us a way\n",
    "to structure larger programs, to reduce repetition, to associate names with\n",
    "subprograms, and to isolate these subprograms from each other.\n",
    "\n",
    "The most obvious application of functions is defining new vocabulary. Creating new words in prose is usually bad style. But in programming, it is indispensable.\n",
    "\n",
    "Typical adult English speakers have some 20,000 words in their vocabulary.\n",
    "Few programming languages come with 20,000 commands built in. And the\n",
    "vocabulary that is available tends to be more precisely defined, and thus less\n",
    "flexible, than in human language. Therefore, we usually have to introduce new\n",
    "concepts to avoid repeating ourselves too much"
   ]
  },
  {
   "cell_type": "markdown",
   "metadata": {},
   "source": [
    "## Defining a function\n",
    "A function is created with an expression that starts with the keyword function. Functions have a set of parameters (in this case, only x) and a body, which\n",
    "contains the statements that are to be executed when the function is called.\n",
    "The function body of a function created this way must always be wrapped in\n",
    "braces, even when it consists of only a single statement."
   ]
  },
  {
   "cell_type": "code",
   "execution_count": 1,
   "metadata": {},
   "outputs": [
    {
     "name": "stdout",
     "output_type": "stream",
     "text": [
      "144\n"
     ]
    }
   ],
   "source": [
    "const square = function(x) {\n",
    "    return x * x;\n",
    "};\n",
    "\n",
    "console.log(square(12));"
   ]
  },
  {
   "cell_type": "markdown",
   "metadata": {},
   "source": [
    "A function is created with an expression that starts with the keyword function. Functions have a set of parameters (in this case, only x) and a body, which\n",
    "contains the statements that are to be executed when the function is called.\n",
    "The function body of a function created this way must always be wrapped in\n",
    "braces, even when it consists of only a single statement.\n",
    "\n",
    "A function can have multiple parameters or no parameters at all. In the\n",
    "following example, makeNoise does not list any parameter names, whereas power\n",
    "lists two:"
   ]
  },
  {
   "cell_type": "code",
   "execution_count": 2,
   "metadata": {},
   "outputs": [
    {
     "name": "stdout",
     "output_type": "stream",
     "text": [
      "Pling!\n"
     ]
    }
   ],
   "source": [
    "const makeNoise = function() {\n",
    "    console.log(\"Pling!\");\n",
    "};\n",
    "\n",
    "makeNoise();"
   ]
  },
  {
   "cell_type": "code",
   "execution_count": 3,
   "metadata": {},
   "outputs": [
    {
     "name": "stdout",
     "output_type": "stream",
     "text": [
      "1024\n"
     ]
    }
   ],
   "source": [
    "const power = function(base, exponent) {\n",
    "    let result = 1;\n",
    "    \n",
    "    for (let count = 0; count < exponent; count++) {\n",
    "        result *= base;\n",
    "    }\n",
    "    return result;\n",
    "};\n",
    "\n",
    "console.log(power(2, 10));"
   ]
  },
  {
   "cell_type": "markdown",
   "metadata": {},
   "source": [
    "Some functions produce a value, such as power and square, and some don’t,\n",
    "such as makeNoise, whose only result is a side effect. A return statement\n",
    "determines the value the function returns. When control comes across such\n",
    "a statement, it immediately jumps out of the current function and gives the\n",
    "returned value to the code that called the function. A return keyword without\n",
    "an expression after it will cause the function to return undefined. Functions\n",
    "that don’t have a return statement at all, such as makeNoise, similarly return\n",
    "undefined.\n",
    "\n",
    "Parameters to a function behave like regular bindings, but their initial values\n",
    "are given by the caller of the function, not the code in the function itself."
   ]
  },
  {
   "cell_type": "markdown",
   "metadata": {},
   "source": [
    "## Bindings and scopes\n",
    "Each binding has a scope, which is the part of the program in which the binding\n",
    "is visible. For bindings defined outside of any function or block, the scope is\n",
    "the whole program—you can refer to such bindings wherever you want. These\n",
    "are called global.\n",
    "\n",
    "But bindings created for function parameters or declared inside a function\n",
    "can be referenced only in that function, so they are known as local bindings.\n",
    "\n",
    "Every time the function is called, new instances of these bindings are created.\n",
    "This provides some isolation between functions—each function call acts in its\n",
    "own little world (its local environment) and can often be understood without\n",
    "knowing a lot about what’s going on in the global environment.\n",
    "\n",
    "Bindings declared with let and const are in fact local to the block that they\n",
    "are declared in, so if you create one of those inside of a loop, the code before and after the loop cannot “see” it. In pre-2015 JavaScript, only functions created new scopes, so old-style bindings, created with the var keyword, are visible throughout the whole function that they appear in—or throughout the global scope, if they are not in a function."
   ]
  },
  {
   "cell_type": "code",
   "execution_count": 4,
   "metadata": {},
   "outputs": [
    {
     "name": "stdout",
     "output_type": "stream",
     "text": [
      "60\n",
      "40\n"
     ]
    }
   ],
   "source": [
    "let x = 10;\n",
    "\n",
    "if (true) {\n",
    "    let y = 20;\n",
    "    var z = 30;\n",
    "    console.log(x + y + z);\n",
    "    // → 60\n",
    "}\n",
    "// y is not visible here\n",
    "\n",
    "console.log(x + z);\n",
    "// → 40"
   ]
  },
  {
   "cell_type": "markdown",
   "metadata": {},
   "source": [
    "Each scope can “look out” into the scope around it, so x is visible inside the\n",
    "block in the example. The exception is when multiple bindings have the same\n",
    "name—in that case, code can see only the innermost one. For example, when\n",
    "the code inside the halve function refers to n, it is seeing its own n, not the\n",
    "global n."
   ]
  },
  {
   "cell_type": "code",
   "execution_count": 33,
   "metadata": {},
   "outputs": [],
   "source": [
    "const halve = function(n) {\n",
    "    return n / 2;\n",
    "};\n",
    "\n",
    "let n = 10;"
   ]
  },
  {
   "cell_type": "code",
   "execution_count": 35,
   "metadata": {},
   "outputs": [
    {
     "name": "stdout",
     "output_type": "stream",
     "text": [
      "50\n"
     ]
    }
   ],
   "source": [
    "console.log(halve(100));"
   ]
  },
  {
   "cell_type": "code",
   "execution_count": 36,
   "metadata": {},
   "outputs": [
    {
     "name": "stdout",
     "output_type": "stream",
     "text": [
      "10\n"
     ]
    }
   ],
   "source": [
    "console.log(n);"
   ]
  },
  {
   "cell_type": "markdown",
   "metadata": {},
   "source": [
    "### Nested scope\n",
    "JavaScript distinguishes not just _global_ and _local_ bindings. Blocks and functions\n",
    "can be created inside other blocks and functions, producing multiple degrees\n",
    "of locality.\n",
    "\n",
    "For example, this function—which outputs the ingredients needed to make\n",
    "a batch of hummus—has another function inside it:"
   ]
  },
  {
   "cell_type": "code",
   "execution_count": 6,
   "metadata": {},
   "outputs": [],
   "source": [
    "const hummus = function(factor) {\n",
    "    \n",
    "    const ingredient = function(amount, unit, name) {\n",
    "        let ingredientAmount = amount * factor;\n",
    "        \n",
    "        if (ingredientAmount > 1) {\n",
    "            unit += \"s\";\n",
    "        }\n",
    "\n",
    "        console.log(`${ingredientAmount} ${unit} ${name}`);\n",
    "    };\n",
    "    \n",
    "    ingredient(1, \"can\", \"chickpeas\");\n",
    "    ingredient(0.25, \"cup\", \"tahini\");\n",
    "    ingredient(0.25, \"cup\", \"lemon juice\");\n",
    "    ingredient(1, \"clove\", \"garlic\");\n",
    "    ingredient(2, \"tablespoon\", \"olive oil\");\n",
    "    ingredient(0.5, \"teaspoon\", \"cumin\");\n",
    "};"
   ]
  },
  {
   "cell_type": "markdown",
   "metadata": {},
   "source": [
    "The code inside the ingredient function can see the factor binding from\n",
    "the outer function. But its local bindings, such as unit or ingredientAmount,\n",
    "are not visible in the outer function.\n",
    "\n",
    "The set of bindings visible inside a block is determined by the place of that\n",
    "block in the program text. Each local scope can also see all the local scopes that contain it, and all scopes can see the global scope. This approach to binding visibility is called _lexical scoping_."
   ]
  },
  {
   "cell_type": "markdown",
   "metadata": {},
   "source": [
    "## Functions as values\n",
    "A function binding usually simply acts as a name for a specific piece of the\n",
    "program. Such a binding is defined once and never changed. This makes it\n",
    "easy to confuse the function and its name.\n",
    "\n",
    "But the two are different. A function value can do all the things that other\n",
    "values can do—you can use it in arbitrary expressions, not just call it. It is\n",
    "possible to store a function value in a new binding, pass it as an argument to\n",
    "a function, and so on. Similarly, a binding that holds a function is still just a regular binding and can, if not constant, be assigned a new value, like so:"
   ]
  },
  {
   "cell_type": "markdown",
   "metadata": {},
   "source": [
    "## Declaration notation\n",
    "There is a slightly shorter way to create a function binding. When the function\n",
    "keyword is used at the start of a statement, it works differently."
   ]
  },
  {
   "cell_type": "code",
   "execution_count": 1,
   "metadata": {},
   "outputs": [],
   "source": [
    "function square(x) {\n",
    "    return x * x;\n",
    "}"
   ]
  },
  {
   "cell_type": "markdown",
   "metadata": {},
   "source": [
    "This is a function declaration. The statement defines the binding square and\n",
    "points it at the given function. It is slightly easier to write and doesn’t require a semicolon after the function.\n",
    "\n",
    "There is one subtlety with this form of function definition"
   ]
  },
  {
   "cell_type": "code",
   "execution_count": 2,
   "metadata": {},
   "outputs": [
    {
     "name": "stdout",
     "output_type": "stream",
     "text": [
      "The future says: You'll never have flying cars\n"
     ]
    }
   ],
   "source": [
    "console.log(\"The future says:\", future());\n",
    "\n",
    "function future() {\n",
    "    return \"You'll never have flying cars\";\n",
    "}"
   ]
  },
  {
   "cell_type": "markdown",
   "metadata": {},
   "source": [
    "The preceding code works, even though the function is defined below the code\n",
    "that uses it. Function declarations are not part of the regular top-to-bottom\n",
    "flow of control. They are conceptually moved to the top of their scope and can\n",
    "be used by all the code in that scope. This is sometimes useful because it offers the freedom to order code in a way that seems meaningful, without worrying about having to define all functions before they are used."
   ]
  },
  {
   "cell_type": "markdown",
   "metadata": {},
   "source": [
    "## Arrow functions\n",
    "There’s a third notation for functions, which looks very different from the\n",
    "others. Instead of the function keyword, it uses an arrow (=>) made up of an\n",
    "equal sign and a greater-than character (not to be confused with the greaterthan-or-equal operator, which is written >=)."
   ]
  },
  {
   "cell_type": "code",
   "execution_count": null,
   "metadata": {},
   "outputs": [],
   "source": [
    "const power = (base, exponent) => {\n",
    "    let result = 1;\n",
    "    \n",
    "    for (let count = 0; count < exponent; count++) {\n",
    "        result *= base;\n",
    "    }\n",
    "    \n",
    "    return result;\n",
    "};"
   ]
  },
  {
   "cell_type": "markdown",
   "metadata": {},
   "source": [
    "The arrow comes after the list of parameters and is followed by the function’s\n",
    "body. It expresses something like “this input (the parameters) produces this\n",
    "result (the body)”.\n",
    "\n",
    "When there is only one parameter name, you can omit the parentheses around the parameter list. If the body is a single expression, rather than a block in braces, that expression will be returned from the function. So, these two definitions of square do the same thing:"
   ]
  },
  {
   "cell_type": "code",
   "execution_count": 3,
   "metadata": {},
   "outputs": [],
   "source": [
    "const square1 = (x) => { return x * x; };\n",
    "const square2 = x => x * x;"
   ]
  },
  {
   "cell_type": "markdown",
   "metadata": {},
   "source": [
    "When an arrow function has no parameters at all, its parameter list is just\n",
    "an empty set of parentheses."
   ]
  },
  {
   "cell_type": "code",
   "execution_count": 4,
   "metadata": {},
   "outputs": [],
   "source": [
    "const horn = () => {\n",
    "    console.log(\"Toot\");\n",
    "};"
   ]
  },
  {
   "cell_type": "markdown",
   "metadata": {},
   "source": [
    "There’s no deep reason to have both arrow functions and function expressions in the language. Apart from a minor detail, which we’ll discuss in Chapter 6, they do the same thing. Arrow functions were added in 2015, mostly to make it possible to write small function expressions in a less verbose way. We’ll be\n",
    "using them a lot in Chapter 5."
   ]
  },
  {
   "cell_type": "markdown",
   "metadata": {},
   "source": [
    "## The call stack\n",
    "The way control flows through functions is somewhat involved. Let’s take a\n",
    "closer look at it. Here is a simple program that makes a few function calls:"
   ]
  },
  {
   "cell_type": "code",
   "execution_count": 5,
   "metadata": {},
   "outputs": [
    {
     "name": "stdout",
     "output_type": "stream",
     "text": [
      "Hello Harry\n",
      "Bye\n"
     ]
    }
   ],
   "source": [
    "function greet(who) {\n",
    "    console.log(\"Hello \" + who);\n",
    "}\n",
    "\n",
    "greet(\"Harry\");\n",
    "console.log(\"Bye\");"
   ]
  },
  {
   "cell_type": "markdown",
   "metadata": {},
   "source": [
    "A run through this program goes roughly like this: the call to greet causes\n",
    "control to jump to the start of that function (line 2). The function calls console.log, which takes control, does its job, and then returns control to line 2. There it reaches the end of the greet function, so it returns to the place that called it, which is line 4. The line after that calls console.log again. After that returns, the program reaches its end.\n",
    "\n",
    "We could show the flow of control schematically like this:\n",
    "\n",
    "```javascript\n",
    "not in function\n",
    "    in greet\n",
    "        in console.log\n",
    "    in greet\n",
    "not in function\n",
    "    in console.log\n",
    "not in function\n",
    "```\n",
    "\n",
    "Because a function has to jump back to the place that called it when it returns, the computer must remember the context from which the call happened.\n",
    "In one case, console.log has to return to the greet function when it is done.\n",
    "In the other case, it returns to the end of the program.\n",
    "\n",
    "The place where the computer stores this context is the call stack. Every\n",
    "time a function is called, the current context is stored on top of this stack.\n",
    "When a function returns, it removes the top context from the stack and uses\n",
    "that context to continue execution.\n",
    "\n",
    "Storing this stack requires space in the computer’s memory. When the stack\n",
    "grows too big, the computer will fail with a message like “out of stack space”\n",
    "or “too much recursion”. The following code illustrates this by asking the\n",
    "computer a really hard question that causes an infinite back-and-forth between\n",
    "two functions. Rather, it would be infinite, if the computer had an infinite\n",
    "stack. As it is, we will run out of space, or “blow the stack”.\n",
    "\n",
    "```javascript\n",
    "function chicken() {\n",
    "    return egg();\n",
    "}\n",
    "function egg() {\n",
    "    return chicken();\n",
    "}\n",
    "console.log(chicken() + \" came first.\");\n",
    "// → ??\n",
    "```"
   ]
  },
  {
   "cell_type": "markdown",
   "metadata": {},
   "source": [
    "## Optional Arguments\n",
    "The following code is allowed and executes without any problem:"
   ]
  },
  {
   "cell_type": "code",
   "execution_count": 7,
   "metadata": {},
   "outputs": [
    {
     "name": "stdout",
     "output_type": "stream",
     "text": [
      "16\n"
     ]
    }
   ],
   "source": [
    "function square(x) { return x * x; }\n",
    "\n",
    "console.log(square(4, true, \"hedgehog\"));"
   ]
  },
  {
   "cell_type": "markdown",
   "metadata": {},
   "source": [
    "We defined square with only one parameter. Yet when we call it with three,\n",
    "the language doesn’t complain. It ignores the extra arguments and computes\n",
    "the square of the first one.\n",
    "\n",
    "JavaScript is extremely broad-minded about the number of arguments you\n",
    "pass to a function. If you pass too many, the extra ones are ignored. If you\n",
    "pass too few, the missing parameters get assigned the value undefined.\n",
    "\n",
    "The downside of this is that it is possible—likely, even—that you’ll accidentally pass the wrong number of arguments to functions. And no one will tell you about it.\n",
    "\n",
    "The upside is that this behavior can be used to allow a function to be called\n",
    "with different numbers of arguments. For example, this minus function tries to\n",
    "imitate the - operator by acting on either one or two arguments:"
   ]
  },
  {
   "cell_type": "code",
   "execution_count": 8,
   "metadata": {},
   "outputs": [],
   "source": [
    "function minus(a, b) {\n",
    "    if (b === undefined) return -a;\n",
    "    else return a - b;\n",
    "}"
   ]
  },
  {
   "cell_type": "code",
   "execution_count": 12,
   "metadata": {},
   "outputs": [
    {
     "data": {
      "text/plain": [
       "-10"
      ]
     },
     "execution_count": 12,
     "metadata": {},
     "output_type": "execute_result"
    }
   ],
   "source": [
    "minus(10);"
   ]
  },
  {
   "cell_type": "code",
   "execution_count": 13,
   "metadata": {},
   "outputs": [
    {
     "data": {
      "text/plain": [
       "5"
      ]
     },
     "execution_count": 13,
     "metadata": {},
     "output_type": "execute_result"
    }
   ],
   "source": [
    "minus(10, 5);"
   ]
  },
  {
   "cell_type": "markdown",
   "metadata": {},
   "source": [
    "In the next chapter, we will see a way in which a function body can get at\n",
    "the whole list of arguments it was passed. This is helpful because it makes\n",
    "it possible for a function to accept any number of arguments. For example,\n",
    "console.log does this—it outputs all of the values it is given."
   ]
  },
  {
   "cell_type": "code",
   "execution_count": 11,
   "metadata": {},
   "outputs": [
    {
     "name": "stdout",
     "output_type": "stream",
     "text": [
      "C O 2\n"
     ]
    }
   ],
   "source": [
    "console.log(\"C\", \"O\", 2);"
   ]
  },
  {
   "cell_type": "markdown",
   "metadata": {},
   "source": [
    "## Closure\n",
    "The ability to treat functions as values, combined with the fact that local\n",
    "bindings are re-created every time a function is called, brings up an interesting question. What happens to local bindings when the function call that created them is no longer active?\n",
    "\n",
    "The following code shows an example of this. It defines a function, wrapValue,\n",
    "that creates a local binding. It then returns a function that accesses and returns this local binding"
   ]
  },
  {
   "cell_type": "code",
   "execution_count": 14,
   "metadata": {},
   "outputs": [],
   "source": [
    "function wrapValue(n) {\n",
    "    let local = n;\n",
    "    return () => local;\n",
    "}\n",
    "\n",
    "let wrap1 = wrapValue(1);\n",
    "let wrap2 = wrapValue(2);"
   ]
  },
  {
   "cell_type": "code",
   "execution_count": 15,
   "metadata": {},
   "outputs": [
    {
     "name": "stdout",
     "output_type": "stream",
     "text": [
      "1\n"
     ]
    }
   ],
   "source": [
    "console.log(wrap1());"
   ]
  },
  {
   "cell_type": "code",
   "execution_count": 16,
   "metadata": {},
   "outputs": [
    {
     "name": "stdout",
     "output_type": "stream",
     "text": [
      "2\n"
     ]
    }
   ],
   "source": [
    "console.log(wrap2());"
   ]
  },
  {
   "cell_type": "markdown",
   "metadata": {},
   "source": [
    "This is allowed and works as you’d hope—both instances of the binding can\n",
    "still be accessed. This situation is a good demonstration of the fact that local bindings are created anew for every call, and different calls can’t trample on one another’s local bindings.\n",
    "\n",
    "This feature—being able to reference a specific instance of a local binding in\n",
    "an enclosing scope—is called closure. A function that references bindings from\n",
    "local scopes around it is called a closure. This behavior not only frees you from having to worry about lifetimes of bindings but also makes it possible to use function values in some creative ways.\n",
    "\n",
    "With a slight change, we can turn the previous example into a way to create\n",
    "functions that multiply by an arbitrary amount."
   ]
  },
  {
   "cell_type": "code",
   "execution_count": 17,
   "metadata": {},
   "outputs": [
    {
     "name": "stdout",
     "output_type": "stream",
     "text": [
      "10\n"
     ]
    }
   ],
   "source": [
    "function multiplier(factor) {\n",
    "    return number => number * factor;\n",
    "}\n",
    "\n",
    "let twice = multiplier(2);\n",
    "\n",
    "console.log(twice(5));"
   ]
  },
  {
   "cell_type": "markdown",
   "metadata": {},
   "source": [
    "The explicit local binding from the wrapValue example isn’t really needed\n",
    "since a parameter is itself a local binding.\n",
    "\n",
    "Thinking about programs like this takes some practice. A good mental model\n",
    "is to think of function values as containing both the code in their body and the environment in which they are created. When called, the function body sees\n",
    "the environment in which it was created, not the environment in which it is\n",
    "called.\n",
    "\n",
    "In the example, multiplier is called and creates an environment in which its\n",
    "factor parameter is bound to 2. The function value it returns, which is stored\n",
    "in twice, remembers this environment. So when that is called, it multiplies its\n",
    "argument by 2."
   ]
  },
  {
   "cell_type": "markdown",
   "metadata": {},
   "source": [
    "## Recursion\n",
    "It is perfectly okay for a function to call itself, as long as it doesn’t do it so often that it overflows the stack. A function that calls itself is called recursive.\n",
    "\n",
    "Recursion allows some functions to be written in a different style. Take, for\n",
    "example, this alternative implementation of power:"
   ]
  },
  {
   "cell_type": "code",
   "execution_count": 18,
   "metadata": {},
   "outputs": [],
   "source": [
    "function power(base, exponent) {\n",
    "    if (exponent == 0) {\n",
    "        return 1;\n",
    "    } else {\n",
    "        return base * power(base, exponent - 1);\n",
    "    }\n",
    "}"
   ]
  },
  {
   "cell_type": "code",
   "execution_count": 20,
   "metadata": {},
   "outputs": [
    {
     "data": {
      "text/plain": [
       "8"
      ]
     },
     "execution_count": 20,
     "metadata": {},
     "output_type": "execute_result"
    }
   ],
   "source": [
    "power(2, 3)"
   ]
  },
  {
   "cell_type": "markdown",
   "metadata": {},
   "source": [
    "This is rather close to the way mathematicians define exponentiation and\n",
    "arguably describes the concept more clearly than the looping variant. The\n",
    "function calls itself multiple times with ever smaller exponents to achieve the\n",
    "repeated multiplication.\n",
    "\n",
    "But this implementation has one problem: in typical JavaScript implementations, it’s about three times slower than the looping version. Running through\n",
    "a simple loop is generally cheaper than calling a function multiple times.\n",
    "The dilemma of speed versus elegance is an interesting one. You can see it as\n",
    "a kind of continuum between human-friendliness and machine-friendliness. Almost any program can be made faster by making it bigger and more convoluted.\n",
    "The programmer has to decide on an appropriate balance.\n",
    "\n",
    "In the case of the power function, the inelegant (looping) version is still fairly simple and easy to read. It doesn’t make much sense to replace it with the recursive version. Often, though, a program deals with such complex concepts that giving up some efficiency in order to make the program more straightforward is helpful.\n",
    "\n",
    "Worrying about efficiency can be a distraction. It’s yet another factor that\n",
    "complicates program design, and when you’re doing something that’s already\n",
    "difficult, that extra thing to worry about can be paralyzing.\n",
    "\n",
    "Therefore, always start by writing something that’s correct and easy to understand. If you’re worried that it’s too slow—which it usually isn’t since\n",
    "most code simply isn’t executed often enough to take any significant amount\n",
    "of time—you can measure afterward and improve it if necessary.\n",
    "\n",
    "Recursion is not always just an inefficient alternative to looping. Some problems really are easier to solve with recursion than with loops. Most often these are problems that require exploring or processing several “branches”, each of which might branch out again into even more branches.\n",
    "\n",
    "Consider this puzzle: by starting from the number 1 and repeatedly either\n",
    "adding 5 or multiplying by 3, an infinite set of numbers can be produced. How\n",
    "would you write a function that, given a number, tries to find a sequence of\n",
    "such additions and multiplications that produces that number?\n",
    "\n",
    "For example, the number 13 could be reached by first multiplying by 3 and\n",
    "then adding 5 twice, whereas the number 15 cannot be reached at all.\n",
    "\n",
    "Here is a recursive solution:"
   ]
  },
  {
   "cell_type": "code",
   "execution_count": 21,
   "metadata": {},
   "outputs": [],
   "source": [
    "function findSolution(target) {\n",
    "    \n",
    "    function find(current, history) {\n",
    "        \n",
    "        if (current == target) {\n",
    "            return history;\n",
    "            \n",
    "        } else if (current > target) {\n",
    "            return null;\n",
    "            \n",
    "        } else {\n",
    "            return find(current + 5, `(${history} + 5)`) ||\n",
    "            find(current * 3, `(${history} * 3)`);\n",
    "        } \n",
    "        \n",
    "    }\n",
    "    return find(1, \"1\");\n",
    "}"
   ]
  },
  {
   "cell_type": "code",
   "execution_count": 23,
   "metadata": {},
   "outputs": [
    {
     "data": {
      "text/plain": [
       "'(((1 * 3) + 5) * 3)'"
      ]
     },
     "execution_count": 23,
     "metadata": {},
     "output_type": "execute_result"
    }
   ],
   "source": [
    "findSolution(24)"
   ]
  },
  {
   "cell_type": "markdown",
   "metadata": {},
   "source": [
    "## Growing functions\n",
    "There are two more or less natural ways for functions to be introduced into\n",
    "programs.\n",
    "\n",
    "The first is that you find yourself writing similar code multiple times. You’d\n",
    "prefer not to do that. Having more code means more space for mistakes to\n",
    "hide and more material to read for people trying to understand the program.\n",
    "\n",
    "So you take the repeated functionality, find a good name for it, and put it into a function.\n",
    "\n",
    "The second way is that you find you need some functionality that you haven’t\n",
    "written yet and that sounds like it deserves its own function. You’ll start by\n",
    "naming the function, and then you’ll write its body. You might even start\n",
    "writing code that uses the function before you actually define the function\n",
    "itself.\n",
    "\n",
    "How difficult it is to find a good name for a function is a good indication\n",
    "of how clear a concept it is that you’re trying to wrap. Let’s go through an\n",
    "example.\n",
    "\n",
    "We want to write a program that prints two numbers: the numbers of cows\n",
    "and chickens on a farm, with the words Cows and Chickens after them and zeros\n",
    "padded before both numbers so that they are always three digits long.\n",
    "\n",
    "- 007 Cows\n",
    "- 011 Chickens\n",
    "\n",
    "This asks for a function of two arguments—the number of cows and the\n",
    "number of chickens. Let’s get coding."
   ]
  },
  {
   "cell_type": "markdown",
   "metadata": {},
   "source": [
    "```javascript\n",
    "function printFarmInventory(cows, chickens) {\n",
    "    let cowString = String(cows);\n",
    "    \n",
    "    while (cowString.length < 3) {\n",
    "        cowString = \"0\" + cowString;\n",
    "    }\n",
    "    console.log(`${cowString} Cows`);\n",
    "    let chickenString = String(chickens);\n",
    "    \n",
    "    while (chickenString.length < 3) {\n",
    "        chickenString = \"0\" + chickenString;\n",
    "    }\n",
    "    console.log(`${chickenString} Chickens`);\n",
    "}\n",
    "\n",
    "printFarmInventory(7, 11)\n",
    "```"
   ]
  },
  {
   "cell_type": "markdown",
   "metadata": {},
   "source": [
    "Writing .length after a string expression will give us the length of that string.\n",
    "\n",
    "Thus, the while loops keep adding zeros in front of the number strings until\n",
    "they are at least three characters long.\n",
    "\n",
    "Mission accomplished! But just as we are about to send the farmer the code\n",
    "(along with a hefty invoice), she calls and tells us she’s also started keeping\n",
    "pigs, and couldn’t we please extend the software to also print pigs?\n",
    "\n",
    "We sure can. But just as we’re in the process of copying and pasting those four lines one more time, we stop and reconsider. There has to be a better way.\n",
    "Here’s a first attempt:"
   ]
  },
  {
   "cell_type": "code",
   "execution_count": 27,
   "metadata": {},
   "outputs": [
    {
     "name": "stdout",
     "output_type": "stream",
     "text": [
      "007 Cows\n",
      "011 Chickens\n",
      "003 Pigs\n"
     ]
    }
   ],
   "source": [
    "function printZeroPaddedWithLabel(number, label) { \n",
    "    let numberString = String(number);\n",
    "    \n",
    "    while (numberString.length < 3) {\n",
    "        numberString = \"0\" + numberString;\n",
    "    }\n",
    "    console.log(`${numberString} ${label}`);\n",
    "}\n",
    "\n",
    "function printFarmInventory(cows, chickens, pigs) {\n",
    "    printZeroPaddedWithLabel(cows, \"Cows\");\n",
    "    printZeroPaddedWithLabel(chickens, \"Chickens\");\n",
    "    printZeroPaddedWithLabel(pigs, \"Pigs\");\n",
    "}\n",
    "\n",
    "printFarmInventory(7, 11, 3)"
   ]
  },
  {
   "cell_type": "markdown",
   "metadata": {},
   "source": [
    "It works! But that name, printZeroPaddedWithLabel, is a little awkward.\n",
    "It conflates three things—printing, zero-padding, and adding a label—into a\n",
    "single function.\n",
    "\n",
    "Instead of lifting out the repeated part of our program wholesale, let’s try\n",
    "to pick out a single _concept_."
   ]
  },
  {
   "cell_type": "code",
   "execution_count": 30,
   "metadata": {},
   "outputs": [
    {
     "name": "stdout",
     "output_type": "stream",
     "text": [
      "007 Cows\n",
      "016 Chickens\n",
      "003 Pigs\n"
     ]
    }
   ],
   "source": [
    "function zeroPad(number, width) {\n",
    "    let string = String(number);\n",
    "    \n",
    "    while (string.length < width) {\n",
    "        string = \"0\" + string;\n",
    "    }\n",
    "    return string;\n",
    "}\n",
    "\n",
    "function printFarmInventory(cows, chickens, pigs) {\n",
    "    console.log(`${zeroPad(cows, 3)} Cows`);\n",
    "    console.log(`${zeroPad(chickens, 3)} Chickens`);\n",
    "    console.log(`${zeroPad(pigs, 3)} Pigs`);\n",
    "}\n",
    "\n",
    "printFarmInventory(7, 16, 3)"
   ]
  },
  {
   "cell_type": "markdown",
   "metadata": {},
   "source": [
    "A function with a nice, obvious name like zeroPad makes it easier for someone\n",
    "who reads the code to figure out what it does. And such a function is useful in\n",
    "more situations than just this specific program. For example, you could use it\n",
    "to help print nicely aligned tables of numbers.\n",
    "\n",
    "How smart and versatile should our function be? We could write anything, from a terribly simple function that can only pad a number to be three characters wide to a complicated generalized number-formatting system that handles fractional numbers, negative numbers, alignment of decimal dots, padding with different characters, and so on.\n",
    "\n",
    "A useful principle is to not add cleverness unless you are absolutely sure\n",
    "you’re going to need it. It can be tempting to write general “frameworks” for\n",
    "every bit of functionality you come across. Resist that urge. You won’t get any\n",
    "real work done—you’ll just be writing code that you never use."
   ]
  },
  {
   "cell_type": "markdown",
   "metadata": {},
   "source": [
    "## Functions and side effects\n",
    "Functions can be roughly divided into those that are called for their side effects and those that are called for their return value. (Though it is definitely also possible to both have side effects and return a value.)\n",
    "\n",
    "The first helper function in the farm example, printZeroPaddedWithLabel,\n",
    "is called for its side effect: it prints a line. The second version, zeroPad, is called for its return value. It is no coincidence that the second is useful in more situations than the first. Functions that create values are easier to combine in new ways than functions that directly perform side effects.\n",
    "\n",
    "A pure function is a specific kind of value-producing function that not only\n",
    "has no side effects but also doesn’t rely on side effects from other code—for\n",
    "example, it doesn’t read global bindings whose value might change. A pure function has the pleasant property that, when called with the same arguments,\n",
    "it always produces the same value (and doesn’t do anything else). A call to\n",
    "such a function can be substituted by its return value without changing the\n",
    "meaning of the code. When you are not sure that a pure function is working\n",
    "correctly, you can test it by simply calling it and know that if it works in that context, it will work in any context. Nonpure functions tend to require more scaffolding to test.\n",
    "\n",
    "Still, there’s no need to feel bad when writing functions that are not pure or\n",
    "to wage a holy war to purge them from your code. Side effects are often useful.\n",
    "There’d be no way to write a pure version of console.log, for example, and\n",
    "console.log is good to have. Some operations are also easier to express in an\n",
    "efficient way when we use side effects, so computing speed can be a reason to\n",
    "avoid purity."
   ]
  },
  {
   "cell_type": "markdown",
   "metadata": {},
   "source": [
    "## Summary\n",
    "This chapter taught you how to write your own functions. The function keyword, when used as an expression, can create a function value. When used as\n",
    "a statement, it can be used to declare a binding and give it a function as its\n",
    "value. Arrow functions are yet another way to create functions.\n",
    "\n",
    "```javascript\n",
    "// Define f to hold a function value\n",
    "const f = function(a) {\n",
    "    console.log(a + 2);\n",
    "};\n",
    "\n",
    "// Declare g to be a function\n",
    "function g(a, b) {\n",
    "    return a * b * 3.5;\n",
    "}\n",
    "\n",
    "// A less verbose function value\n",
    "let h = a => a % 3;\n",
    "```\n",
    "\n",
    "A key aspect in understanding functions is understanding scopes. Each block\n",
    "creates a new scope. Parameters and bindings declared in a given scope are\n",
    "local and not visible from the outside. Bindings declared with var behave\n",
    "differently—they end up in the nearest function scope or the global scope.\n",
    "Separating the tasks your program performs into different functions is helpful. You won’t have to repeat yourself as much, and functions can help organize\n",
    "a program by grouping code into pieces that do specific things."
   ]
  },
  {
   "cell_type": "markdown",
   "metadata": {},
   "source": [
    "## Exercises\n",
    "### Minimum\n",
    "The previous chapter introduced the standard function Math.min that returns\n",
    "its smallest argument. We can build something like that now. Write a function\n",
    "min that takes two arguments and returns their minimum."
   ]
  },
  {
   "cell_type": "code",
   "execution_count": 41,
   "metadata": {},
   "outputs": [],
   "source": [
    "function min(a, b) {\n",
    "    if ( a > b ) {\n",
    "        return b\n",
    "    } else {\n",
    "        return a\n",
    "    }   \n",
    "}"
   ]
  },
  {
   "cell_type": "code",
   "execution_count": 42,
   "metadata": {},
   "outputs": [
    {
     "data": {
      "text/plain": [
       "5"
      ]
     },
     "execution_count": 42,
     "metadata": {},
     "output_type": "execute_result"
    }
   ],
   "source": [
    "min(10, 5)"
   ]
  },
  {
   "cell_type": "markdown",
   "metadata": {},
   "source": [
    "### Recursion\n",
    "We've seen that % (the remainder operator) can be used to test whether a\n",
    "number is even or odd by using % 2 to see whether it’s divisible by two. Here’s\n",
    "another way to define whether a positive whole number is even or odd:\n",
    "\n",
    "- Zero is even.\n",
    "- One is odd.\n",
    "- For any other number N, its evenness is the same as N - 2.\n",
    "\n",
    "Define a recursive function isEven corresponding to this description. The\n",
    "function should accept a single parameter (a positive, whole number) and return\n",
    "a Boolean.\n",
    "\n",
    "Test it on 50 and 75. See how it behaves on -1. Why? Can you think of a\n",
    "way to fix this?\n"
   ]
  },
  {
   "cell_type": "code",
   "execution_count": null,
   "metadata": {},
   "outputs": [],
   "source": []
  },
  {
   "cell_type": "markdown",
   "metadata": {},
   "source": [
    "### Bean counting\n",
    "You can get the Nth character, or letter, from a string by writing \"string\"[N].\n",
    "The returned value will be a string containing only one character (for example,\n",
    "\"b\"). The first character has position 0, which causes the last one to be found at position string.length - 1. In other words, a two-character string has length 2, and its characters have positions 0 and 1.\n",
    "\n",
    "Write a function countBs that takes a string as its only argument and returns\n",
    "a number that indicates how many uppercase “B” characters there are in the\n",
    "string.\n",
    "\n",
    "Next, write a function called countChar that behaves like countBs, except\n",
    "it takes a second argument that indicates the character that is to be counted\n",
    "(rather than counting only uppercase “B” characters). Rewrite countBs to\n",
    "make use of this new function."
   ]
  },
  {
   "cell_type": "code",
   "execution_count": null,
   "metadata": {},
   "outputs": [],
   "source": []
  }
 ],
 "metadata": {
  "@webio": {
   "lastCommId": null,
   "lastKernelId": null
  },
  "hide_input": false,
  "kernelspec": {
   "display_name": "Javascript (Node.js)",
   "language": "javascript",
   "name": "javascript"
  },
  "language_info": {
   "file_extension": ".js",
   "mimetype": "application/javascript",
   "name": "javascript",
   "version": "10.13.0"
  }
 },
 "nbformat": 4,
 "nbformat_minor": 4
}
